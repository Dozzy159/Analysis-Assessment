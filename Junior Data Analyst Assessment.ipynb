{
 "cells": [
  {
   "cell_type": "markdown",
   "id": "86adffeb",
   "metadata": {},
   "source": [
    "# Python Write Program from MySQL to Excel"
   ]
  },
  {
   "cell_type": "code",
   "execution_count": 2,
   "id": "aa50cb34",
   "metadata": {},
   "outputs": [
    {
     "name": "stdout",
     "output_type": "stream",
     "text": [
      "Data has been written to sqlResult1.xlsx\n"
     ]
    }
   ],
   "source": [
    "import mysql.connector\n",
    "from openpyxl import Workbook\n",
    "\n",
    "mydb = mysql.connector.connect(\n",
    "    host='localhost',\n",
    "    user='root',\n",
    "    password='151198',\n",
    "    database='coffeedata',\n",
    "    auth_plugin='mysql_native_password'\n",
    ")\n",
    "\n",
    "queries_and_sheets = [\n",
    "    (\"SELECT d.item_id itemId, c.item_name itemName, c.item_cat itemCategory, c.item_size itemSize, c.sku stockKeepingUnit, count(d.order_id) as totalOrdered, sum(d.quantity) as quantityOrderedAndSold, c.item_price itemPrice, c.item_price * sum(d.quantity) AS totalRevenue FROM coffeedata.items c INNER JOIN coffeedata.orders d ON c.item_id = d.item_id GROUP BY d.item_id, c.item_name, c.item_cat, c.item_size, c.sku, c.item_price ORDER BY quantityOrderedAndSold DESC, totalRevenue DESC;\", \"Query 1\"),\n",
    "    (\"SELECT * , ROUND(f.itemPrice - f.productionCost, 3) AS profit, ROUND(((f. itemPrice - f.productionCost)/f.productionCost) * 100, 2) AS percentageProfit\tFROM (SELECT c.item_id itemId, c.item_name itemName, e.recipe_id stockKeepingUnit, ROUND(SUM(e.quantity * a.unitPrice),3) AS productionCost, c.item_price itemPrice\tFROM coffeedata.recipes e\tINNER JOIN (SELECT a.*, ROUND (a.ing_price/a.ing_weight,3) as unitPrice\tFROM coffeedata.ingredients a) a\tON e.ing_id = a.ing_id\tINNER JOIN coffeedata.items c\tON e.recipe_id = c.sku\tGROUP BY c.item_id, c.item_name, e.recipe_id, c.item_price) f\tORDER BY profit DESC;\", \"Query 2\"),\n",
    "    (\"SELECT hour(z.created_at) AS orderHour, sum(z.quantity) AS sales, count(z.item_id) AS orders, Round(sum(y.productionCost * z.quantity), 2) AS productionCostOfOrderPerHour, Round(sum(y.Profit * z.quantity), 2) AS profitMadePerHour  FROM orders z\tLEFT OUTER JOIN (SELECT f.item_id, f.item_name, f.recipe_id, f.productionCost, f.item_price, ROUND(f.item_price - f.productionCost, 3) AS profit\tFROM (SELECT c.item_id, c.item_name, e.recipe_id, ROUND(SUM(e.quantity * a.unitPrice), 3) AS productionCost, c.item_price\tFROM coffeedata.recipes e\tINNER JOIN (SELECT a.*, ROUND(a.ing_price / a.ing_weight, 3) AS unitPrice\tFROM coffeedata.ingredients a) a\tON e.ing_id = a.ing_id\tINNER JOIN coffeedata.items c\tON e.recipe_id = c.sku\tGROUP BY c.item_id, c.item_name, e.recipe_id, c.item_price) f\tORDER BY profit DESC) y on z.Item_Id = y.Item_id  GROUP BY orderHour\",\"Query 3\"),\n",
    "    (\"SELECT h.staff_id staffId, h.first_name firstName, h.last_name lastName, h.position, h.sal_per_hour salaryPerHour, g.day_of_week dayOfTheWeek, f.date, SUM(g.end_time - g.start_time) AS hoursWorked, sal_per_hour * SUM(g.end_time - g.start_time) AS dailySalary FROM coffeedata.staff h INNER JOIN coffeedata.rota f ON h.staff_id = f.staff_id INNER JOIN coffeedata.shift g ON f.shift_id = g.shift_id GROUP BY f.date,  g.day_of_week, h.staff_id, h.first_name, h.last_name, h.position, h.sal_per_hour ORDER BY f.staff_id\",\"Query 4\"),\n",
    "    (\"SELECT s.item_cat itemCategory, d.in_or_out dineInOrTakeOut, SUM(quantity) totalOrder, SUM(s.totalRevenue) AS totalRevenue FROM coffeedata.orders d INNER JOIN (SELECT d.item_id, c.item_name, c.item_cat, c.item_size, c.sku, count(d.order_id) as totalOrdered, sum(d.quantity) as quantityOrdered_and_sold, c.item_price, c.item_price * sum(d.quantity) AS totalRevenue FROM coffeedata.items c INNER JOIN coffeedata.orders d ON c.item_id = d.item_id GROUP BY d.item_id, c.item_name, c.item_cat, c.item_size, c.sku, c.item_price ORDER BY quantityOrdered_and_sold DESC, totalRevenue DESC) s ON d.item_id = s.item_id GROUP BY d.in_or_out, s.item_cat ORDER BY d.in_or_out DESC;\",\"Query 5\"),\n",
    "    (\"SELECT g.shift_id shiftId, f.date Date, g.start_time startTime, g.end_time endTime, COUNT(d.order_id) AS totalOrders FROM coffeedata.rota f RIGHT JOIN coffeedata.shift g ON f.shift_id = g.shift_id LEFT JOIN (SELECT d.order_id, date_format(d.created_at, '%Y-%m-%d') as Date FROM coffeedata.orders d) d ON f.Date = d.date GROUP BY g.shift_id, f.date, g.start_time, g.end_time ORDER BY totalOrders DESC, g.shift_id\",\"Query 6\")\n",
    "]\n",
    "\n",
    "wb = Workbook()\n",
    "for query, sheet_name in queries_and_sheets:\n",
    "    cursor = mydb.cursor()\n",
    "    cursor.execute(query)\n",
    "    rows = cursor.fetchall()\n",
    "    columns = cursor.column_names\n",
    "    \n",
    "    if sheet_name in wb.sheetnames:\n",
    "        ws = wb[sheet_name]\n",
    "    else:\n",
    "        ws = wb.create_sheet(title=sheet_name)\n",
    "    \n",
    "    ws.append(columns)\n",
    "    \n",
    "    for row in rows:\n",
    "        ws.append(row)\n",
    "    \n",
    "    cursor.close()\n",
    "\n",
    "if 'Sheet' in wb.sheetnames and len(wb.sheetnames) > len(queries_and_sheets):\n",
    "    del wb['Sheet']\n",
    "\n",
    "sqlResult_file = 'sqlResult1.xlsx'\n",
    "wb.save(sqlResult_file)\n",
    "\n",
    "mydb.close()\n",
    "\n",
    "print(f\"Data has been written to {sqlResult_file}\")"
   ]
  },
  {
   "cell_type": "code",
   "execution_count": null,
   "id": "ea0a23bc",
   "metadata": {},
   "outputs": [],
   "source": []
  },
  {
   "cell_type": "code",
   "execution_count": null,
   "id": "f076e7ff",
   "metadata": {},
   "outputs": [],
   "source": []
  },
  {
   "cell_type": "code",
   "execution_count": null,
   "id": "37281add",
   "metadata": {},
   "outputs": [],
   "source": []
  },
  {
   "cell_type": "code",
   "execution_count": null,
   "id": "1232cae5",
   "metadata": {},
   "outputs": [],
   "source": []
  },
  {
   "cell_type": "code",
   "execution_count": null,
   "id": "0f794e8a",
   "metadata": {},
   "outputs": [],
   "source": []
  },
  {
   "cell_type": "code",
   "execution_count": null,
   "id": "3076f9ad",
   "metadata": {},
   "outputs": [],
   "source": []
  },
  {
   "cell_type": "code",
   "execution_count": null,
   "id": "ea960cb2",
   "metadata": {},
   "outputs": [],
   "source": []
  },
  {
   "cell_type": "code",
   "execution_count": null,
   "id": "c5cd5faf",
   "metadata": {},
   "outputs": [],
   "source": []
  },
  {
   "cell_type": "code",
   "execution_count": null,
   "id": "3f2c78fd",
   "metadata": {},
   "outputs": [],
   "source": []
  },
  {
   "cell_type": "code",
   "execution_count": null,
   "id": "86cd1e82",
   "metadata": {},
   "outputs": [],
   "source": []
  },
  {
   "cell_type": "code",
   "execution_count": null,
   "id": "8fb1b212",
   "metadata": {},
   "outputs": [],
   "source": []
  },
  {
   "cell_type": "code",
   "execution_count": null,
   "id": "6ef30bfb",
   "metadata": {},
   "outputs": [],
   "source": []
  },
  {
   "cell_type": "code",
   "execution_count": null,
   "id": "e2a26816",
   "metadata": {},
   "outputs": [],
   "source": []
  },
  {
   "cell_type": "code",
   "execution_count": null,
   "id": "c33a1da5",
   "metadata": {},
   "outputs": [],
   "source": []
  },
  {
   "cell_type": "code",
   "execution_count": null,
   "id": "cefe9c32",
   "metadata": {},
   "outputs": [],
   "source": []
  },
  {
   "cell_type": "code",
   "execution_count": null,
   "id": "945b84f5",
   "metadata": {},
   "outputs": [],
   "source": []
  },
  {
   "cell_type": "code",
   "execution_count": null,
   "id": "e05f0d21",
   "metadata": {},
   "outputs": [],
   "source": []
  },
  {
   "cell_type": "code",
   "execution_count": null,
   "id": "fcb8ff21",
   "metadata": {},
   "outputs": [],
   "source": []
  },
  {
   "cell_type": "code",
   "execution_count": null,
   "id": "4d894297",
   "metadata": {},
   "outputs": [],
   "source": []
  },
  {
   "cell_type": "code",
   "execution_count": null,
   "id": "0d92a7bf",
   "metadata": {},
   "outputs": [],
   "source": []
  },
  {
   "cell_type": "code",
   "execution_count": null,
   "id": "eab8256a",
   "metadata": {},
   "outputs": [],
   "source": []
  },
  {
   "cell_type": "code",
   "execution_count": null,
   "id": "8da51340",
   "metadata": {},
   "outputs": [],
   "source": []
  },
  {
   "cell_type": "code",
   "execution_count": null,
   "id": "10448d8e",
   "metadata": {},
   "outputs": [],
   "source": []
  },
  {
   "cell_type": "code",
   "execution_count": null,
   "id": "96359e16",
   "metadata": {},
   "outputs": [],
   "source": []
  },
  {
   "cell_type": "code",
   "execution_count": null,
   "id": "41e52382",
   "metadata": {},
   "outputs": [],
   "source": []
  },
  {
   "cell_type": "code",
   "execution_count": null,
   "id": "40e57360",
   "metadata": {},
   "outputs": [],
   "source": []
  },
  {
   "cell_type": "code",
   "execution_count": null,
   "id": "c2d476af",
   "metadata": {},
   "outputs": [],
   "source": []
  },
  {
   "cell_type": "code",
   "execution_count": null,
   "id": "baeff938",
   "metadata": {},
   "outputs": [],
   "source": []
  },
  {
   "cell_type": "code",
   "execution_count": null,
   "id": "ca7855c9",
   "metadata": {},
   "outputs": [],
   "source": []
  },
  {
   "cell_type": "code",
   "execution_count": null,
   "id": "bfca5a15",
   "metadata": {},
   "outputs": [],
   "source": []
  },
  {
   "cell_type": "code",
   "execution_count": null,
   "id": "907c0767",
   "metadata": {},
   "outputs": [],
   "source": []
  },
  {
   "cell_type": "code",
   "execution_count": null,
   "id": "2e8c2bd4",
   "metadata": {},
   "outputs": [],
   "source": []
  },
  {
   "cell_type": "code",
   "execution_count": null,
   "id": "4546a129",
   "metadata": {},
   "outputs": [],
   "source": []
  },
  {
   "cell_type": "code",
   "execution_count": null,
   "id": "8e917ece",
   "metadata": {},
   "outputs": [],
   "source": []
  },
  {
   "cell_type": "code",
   "execution_count": null,
   "id": "0b6e4d32",
   "metadata": {},
   "outputs": [],
   "source": []
  },
  {
   "cell_type": "code",
   "execution_count": null,
   "id": "6d7e465d",
   "metadata": {},
   "outputs": [],
   "source": []
  },
  {
   "cell_type": "code",
   "execution_count": null,
   "id": "8c85ef8c",
   "metadata": {},
   "outputs": [],
   "source": []
  },
  {
   "cell_type": "code",
   "execution_count": null,
   "id": "2b47bd3c",
   "metadata": {},
   "outputs": [],
   "source": []
  },
  {
   "cell_type": "code",
   "execution_count": null,
   "id": "923c3d86",
   "metadata": {},
   "outputs": [],
   "source": []
  },
  {
   "cell_type": "code",
   "execution_count": null,
   "id": "3ba231d2",
   "metadata": {},
   "outputs": [],
   "source": []
  },
  {
   "cell_type": "code",
   "execution_count": null,
   "id": "86882637",
   "metadata": {},
   "outputs": [],
   "source": []
  },
  {
   "cell_type": "code",
   "execution_count": null,
   "id": "f214ca18",
   "metadata": {},
   "outputs": [],
   "source": []
  },
  {
   "cell_type": "code",
   "execution_count": null,
   "id": "9a0c10bb",
   "metadata": {},
   "outputs": [],
   "source": []
  },
  {
   "cell_type": "code",
   "execution_count": null,
   "id": "f0ae7a27",
   "metadata": {},
   "outputs": [],
   "source": []
  },
  {
   "cell_type": "code",
   "execution_count": null,
   "id": "3c0fed89",
   "metadata": {},
   "outputs": [],
   "source": []
  },
  {
   "cell_type": "code",
   "execution_count": null,
   "id": "7d5c1e0e",
   "metadata": {},
   "outputs": [],
   "source": []
  },
  {
   "cell_type": "code",
   "execution_count": null,
   "id": "b5edd180",
   "metadata": {},
   "outputs": [],
   "source": []
  },
  {
   "cell_type": "code",
   "execution_count": null,
   "id": "757aeaa6",
   "metadata": {},
   "outputs": [],
   "source": []
  },
  {
   "cell_type": "code",
   "execution_count": null,
   "id": "5f6ba0bb",
   "metadata": {},
   "outputs": [],
   "source": []
  },
  {
   "cell_type": "code",
   "execution_count": null,
   "id": "1f90064d",
   "metadata": {},
   "outputs": [],
   "source": []
  },
  {
   "cell_type": "code",
   "execution_count": null,
   "id": "4a8385d1",
   "metadata": {},
   "outputs": [],
   "source": []
  },
  {
   "cell_type": "code",
   "execution_count": null,
   "id": "90840650",
   "metadata": {},
   "outputs": [],
   "source": []
  },
  {
   "cell_type": "code",
   "execution_count": null,
   "id": "92a018d1",
   "metadata": {},
   "outputs": [],
   "source": []
  },
  {
   "cell_type": "code",
   "execution_count": null,
   "id": "11662009",
   "metadata": {},
   "outputs": [],
   "source": []
  },
  {
   "cell_type": "code",
   "execution_count": null,
   "id": "3e064e79",
   "metadata": {},
   "outputs": [],
   "source": []
  },
  {
   "cell_type": "code",
   "execution_count": null,
   "id": "ab7da301",
   "metadata": {},
   "outputs": [],
   "source": []
  },
  {
   "cell_type": "code",
   "execution_count": null,
   "id": "66ea6faf",
   "metadata": {},
   "outputs": [],
   "source": []
  }
 ],
 "metadata": {
  "kernelspec": {
   "display_name": "Python 3 (ipykernel)",
   "language": "python",
   "name": "python3"
  },
  "language_info": {
   "codemirror_mode": {
    "name": "ipython",
    "version": 3
   },
   "file_extension": ".py",
   "mimetype": "text/x-python",
   "name": "python",
   "nbconvert_exporter": "python",
   "pygments_lexer": "ipython3",
   "version": "3.11.5"
  }
 },
 "nbformat": 4,
 "nbformat_minor": 5
}
